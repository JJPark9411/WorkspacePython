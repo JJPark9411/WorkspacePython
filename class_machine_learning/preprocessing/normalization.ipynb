{
 "cells": [
  {
   "cell_type": "code",
   "execution_count": 1,
   "id": "55187c0a",
   "metadata": {},
   "outputs": [],
   "source": [
    "# 필요한 도구 임포트\n",
    "from sklearn import preprocessing\n",
    "import pandas as pd"
   ]
  },
  {
   "cell_type": "code",
   "execution_count": 3,
   "id": "71702dbe",
   "metadata": {},
   "outputs": [],
   "source": [
    "PATIENT_FILE_PATH = './datasets/liver_patient_data.csv'\n",
    "pd.set_option('display.float_format', lambda x: '%.5f' % x)"
   ]
  },
  {
   "cell_type": "code",
   "execution_count": 25,
   "id": "1eb1e07a",
   "metadata": {},
   "outputs": [
    {
     "data": {
      "text/html": [
       "<div>\n",
       "<style scoped>\n",
       "    .dataframe tbody tr th:only-of-type {\n",
       "        vertical-align: middle;\n",
       "    }\n",
       "\n",
       "    .dataframe tbody tr th {\n",
       "        vertical-align: top;\n",
       "    }\n",
       "\n",
       "    .dataframe thead th {\n",
       "        text-align: right;\n",
       "    }\n",
       "</style>\n",
       "<table border=\"1\" class=\"dataframe\">\n",
       "  <thead>\n",
       "    <tr style=\"text-align: right;\">\n",
       "      <th></th>\n",
       "      <th>Total_Bilirubin</th>\n",
       "      <th>Direct_Bilirubin</th>\n",
       "      <th>Alkaline_Phosphotase</th>\n",
       "      <th>Alamine_Aminotransferase</th>\n",
       "    </tr>\n",
       "  </thead>\n",
       "  <tbody>\n",
       "    <tr>\n",
       "      <th>count</th>\n",
       "      <td>579.00000</td>\n",
       "      <td>579.00000</td>\n",
       "      <td>579.00000</td>\n",
       "      <td>579.00000</td>\n",
       "    </tr>\n",
       "    <tr>\n",
       "      <th>mean</th>\n",
       "      <td>0.03908</td>\n",
       "      <td>0.07113</td>\n",
       "      <td>0.11156</td>\n",
       "      <td>0.03574</td>\n",
       "    </tr>\n",
       "    <tr>\n",
       "      <th>std</th>\n",
       "      <td>0.08348</td>\n",
       "      <td>0.14370</td>\n",
       "      <td>0.11898</td>\n",
       "      <td>0.09205</td>\n",
       "    </tr>\n",
       "    <tr>\n",
       "      <th>min</th>\n",
       "      <td>0.00000</td>\n",
       "      <td>0.00000</td>\n",
       "      <td>0.00000</td>\n",
       "      <td>0.00000</td>\n",
       "    </tr>\n",
       "    <tr>\n",
       "      <th>25%</th>\n",
       "      <td>0.00536</td>\n",
       "      <td>0.00510</td>\n",
       "      <td>0.05496</td>\n",
       "      <td>0.00653</td>\n",
       "    </tr>\n",
       "    <tr>\n",
       "      <th>50%</th>\n",
       "      <td>0.00804</td>\n",
       "      <td>0.01020</td>\n",
       "      <td>0.07084</td>\n",
       "      <td>0.01256</td>\n",
       "    </tr>\n",
       "    <tr>\n",
       "      <th>75%</th>\n",
       "      <td>0.02949</td>\n",
       "      <td>0.06122</td>\n",
       "      <td>0.11480</td>\n",
       "      <td>0.02563</td>\n",
       "    </tr>\n",
       "    <tr>\n",
       "      <th>max</th>\n",
       "      <td>1.00000</td>\n",
       "      <td>1.00000</td>\n",
       "      <td>1.00000</td>\n",
       "      <td>1.00000</td>\n",
       "    </tr>\n",
       "  </tbody>\n",
       "</table>\n",
       "</div>"
      ],
      "text/plain": [
       "       Total_Bilirubin  Direct_Bilirubin  Alkaline_Phosphotase  \\\n",
       "count        579.00000         579.00000             579.00000   \n",
       "mean           0.03908           0.07113               0.11156   \n",
       "std            0.08348           0.14370               0.11898   \n",
       "min            0.00000           0.00000               0.00000   \n",
       "25%            0.00536           0.00510               0.05496   \n",
       "50%            0.00804           0.01020               0.07084   \n",
       "75%            0.02949           0.06122               0.11480   \n",
       "max            1.00000           1.00000               1.00000   \n",
       "\n",
       "       Alamine_Aminotransferase  \n",
       "count                 579.00000  \n",
       "mean                    0.03574  \n",
       "std                     0.09205  \n",
       "min                     0.00000  \n",
       "25%                     0.00653  \n",
       "50%                     0.01256  \n",
       "75%                     0.02563  \n",
       "max                     1.00000  "
      ]
     },
     "execution_count": 25,
     "metadata": {},
     "output_type": "execute_result"
    }
   ],
   "source": [
    "# 데이터 파일을 pandas dataframe으로 가지고 온다\n",
    "liver_patients_df = pd.read_csv(PATIENT_FILE_PATH)\n",
    "\n",
    "# Normalization할 열 이름들\n",
    "features_to_normalize = ['Total_Bilirubin','Direct_Bilirubin', 'Alkaline_Phosphotase', 'Alamine_Aminotransferase']\n",
    "\n",
    "# 코드를 쓰세요\n",
    "prepared_data = liver_patients_df[features_to_normalize]\n",
    "\n",
    "scaler = preprocessing.MinMaxScaler()\n",
    "normalized_data = scaler.fit_transform(prepared_data)\n",
    "# normalized_data = scaler.fit_transform(liver_patients_df[features_to_normalize])\n",
    "\n",
    "normalized_df = pd.DataFrame(normalized_data, columns=features_to_normalize)\n",
    "\n",
    "# 체점용 코드\n",
    "normalized_df.describe()"
   ]
  },
  {
   "cell_type": "code",
   "execution_count": 21,
   "id": "099fbca0",
   "metadata": {},
   "outputs": [
    {
     "data": {
      "text/plain": [
       "array([[0.00402145, 0.        , 0.06057645, 0.00301508],\n",
       "       [0.14075067, 0.2755102 , 0.31069858, 0.02713568],\n",
       "       [0.0924933 , 0.20408163, 0.20859795, 0.02512563],\n",
       "       ...,\n",
       "       [       nan,        nan,        nan,        nan],\n",
       "       [       nan,        nan,        nan,        nan],\n",
       "       [       nan,        nan,        nan,        nan]])"
      ]
     },
     "execution_count": 21,
     "metadata": {},
     "output_type": "execute_result"
    }
   ],
   "source": [
    "normalized_data"
   ]
  }
 ],
 "metadata": {
  "kernelspec": {
   "display_name": "Python 3",
   "language": "python",
   "name": "python3"
  },
  "language_info": {
   "codemirror_mode": {
    "name": "ipython",
    "version": 3
   },
   "file_extension": ".py",
   "mimetype": "text/x-python",
   "name": "python",
   "nbconvert_exporter": "python",
   "pygments_lexer": "ipython3",
   "version": "3.7.10"
  }
 },
 "nbformat": 4,
 "nbformat_minor": 5
}

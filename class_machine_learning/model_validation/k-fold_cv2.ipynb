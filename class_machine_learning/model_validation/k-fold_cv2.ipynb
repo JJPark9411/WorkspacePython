{
 "cells": [
  {
   "cell_type": "code",
   "execution_count": 1,
   "id": "dd156c28",
   "metadata": {},
   "outputs": [],
   "source": [
    "from sklearn.linear_model import LogisticRegression\n",
    "from sklearn.model_selection import cross_val_score\n",
    "\n",
    "import numpy as np\n",
    "import pandas as pd"
   ]
  },
  {
   "cell_type": "code",
   "execution_count": 2,
   "id": "1a4fcfc6",
   "metadata": {},
   "outputs": [],
   "source": [
    "GENDER_FILE_PATH = './datasets/gender.csv'"
   ]
  },
  {
   "cell_type": "code",
   "execution_count": 3,
   "id": "5d94ff7c",
   "metadata": {},
   "outputs": [
    {
     "data": {
      "text/plain": [
       "0.531868131868132"
      ]
     },
     "execution_count": 3,
     "metadata": {},
     "output_type": "execute_result"
    }
   ],
   "source": [
    "# 데이터 셋을 가지고 온다\n",
    "gender_df = pd.read_csv(GENDER_FILE_PATH)\n",
    "\n",
    "X = pd.get_dummies(gender_df.drop(['Gender'], axis=1)) # 입력 변수를 one-hot encode한다\n",
    "y = gender_df[['Gender']].values.ravel()\n",
    "\n",
    "# 여기에 코드를 쓰세요\n",
    "logistic_model = LogisticRegression(solver='saga', max_iter=2000)\n",
    "\n",
    "k_fold_score = np.average(cross_val_score(logistic_model, X, y, cv=5))\n",
    "\n",
    "# 체점용 코드\n",
    "k_fold_score"
   ]
  }
 ],
 "metadata": {
  "kernelspec": {
   "display_name": "Python 3",
   "language": "python",
   "name": "python3"
  },
  "language_info": {
   "codemirror_mode": {
    "name": "ipython",
    "version": 3
   },
   "file_extension": ".py",
   "mimetype": "text/x-python",
   "name": "python",
   "nbconvert_exporter": "python",
   "pygments_lexer": "ipython3",
   "version": "3.7.10"
  }
 },
 "nbformat": 4,
 "nbformat_minor": 5
}

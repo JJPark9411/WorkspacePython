{
 "cells": [
  {
   "cell_type": "code",
   "execution_count": 1,
   "id": "c19028ed",
   "metadata": {},
   "outputs": [
    {
     "name": "stdout",
     "output_type": "stream",
     "text": [
      "1\n",
      "0\n",
      "0\n",
      "1\n",
      "0\n"
     ]
    }
   ],
   "source": [
    "def survival_classifier(seat_belt, highway, speed, age):\n",
    "    # 코드를 쓰세요\n",
    "    if seat_belt is True:\n",
    "        return 0\n",
    "    else:\n",
    "        if highway is False:\n",
    "            return 0\n",
    "        else:\n",
    "            if speed <= 100:\n",
    "                return 0\n",
    "            else:\n",
    "                if age <= 50:\n",
    "                    return 0\n",
    "                else:\n",
    "                    return 1\n",
    "\n",
    "print(survival_classifier(False, True, 110, 55))\n",
    "print(survival_classifier(True, False, 40, 70))\n",
    "print(survival_classifier(False, True, 80, 25))\n",
    "print(survival_classifier(False, True, 120, 60))\n",
    "print(survival_classifier(True, False, 30, 20))"
   ]
  }
 ],
 "metadata": {
  "kernelspec": {
   "display_name": "Python 3",
   "language": "python",
   "name": "python3"
  },
  "language_info": {
   "codemirror_mode": {
    "name": "ipython",
    "version": 3
   },
   "file_extension": ".py",
   "mimetype": "text/x-python",
   "name": "python",
   "nbconvert_exporter": "python",
   "pygments_lexer": "ipython3",
   "version": "3.7.10"
  }
 },
 "nbformat": 4,
 "nbformat_minor": 5
}

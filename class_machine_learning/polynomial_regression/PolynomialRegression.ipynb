{
 "cells": [
  {
   "cell_type": "code",
   "execution_count": 18,
   "id": "4340470f",
   "metadata": {},
   "outputs": [],
   "source": [
    "from sklearn.datasets import load_boston\n",
    "from sklearn.preprocessing import PolynomialFeatures\n",
    "from sklearn.model_selection import train_test_split\n",
    "from sklearn.linear_model import LinearRegression\n",
    "from sklearn.metrics import mean_squared_error\n",
    "\n",
    "import pandas as pd"
   ]
  },
  {
   "cell_type": "code",
   "execution_count": 25,
   "id": "552d461b",
   "metadata": {},
   "outputs": [
    {
     "name": "stdout",
     "output_type": "stream",
     "text": [
      "Original data:  (506, 13)\n",
      "2nd polynomial data:  (506, 105)\n",
      "[[-2.55720149e-07 -5.09146959e+00 -1.65753983e-01 -5.97358604e+00\n",
      "   2.43179257e+01  1.65180559e+02  2.19910116e+01  1.03167123e+00\n",
      "  -5.66895775e+00  3.22443249e+00 -1.10055942e-02  5.35127787e+00\n",
      "  -4.81524409e-02  7.53109325e-01  2.16774682e-03  2.69938772e-01\n",
      "   5.87901385e-01  2.41731932e+00 -2.52413195e-02  8.92859572e-02\n",
      "  -5.18832420e-03 -5.77807152e-02  3.55602049e-01 -3.86092281e-02\n",
      "   5.43572101e-01 -3.18134358e-04  2.40035425e-02 -7.48850220e-04\n",
      "  -7.16133310e-03 -1.06886010e-01 -1.27782609e+00  2.50137719e-02\n",
      "   1.14111417e-04 -1.25254119e-02 -4.68024813e-03  6.05725185e-04\n",
      "  -8.57873132e-03  1.85030053e-03 -4.64730601e-03  3.08484808e-02\n",
      "  -2.09065897e-01  1.30035723e+00  3.13497405e-01  6.72540163e-04\n",
      "   7.51823883e-02 -7.38014889e-03  4.23364348e-04 -6.72155118e-03\n",
      "   6.42107774e-03 -5.32275093e-03  2.43179264e+01 -1.84845896e+01\n",
      "  -6.89090796e+00  3.60375828e-02  3.05451225e+00 -4.09746374e-01\n",
      "   2.34143012e-02 -8.47140007e-01  2.67079534e-02 -4.67786369e-01\n",
      "  -4.67850812e+01  3.64543351e+00 -6.00214489e-01  1.59316284e+01\n",
      "  -9.85012970e-01  1.34091848e-01 -1.19204901e+01 -3.52741122e-02\n",
      "   1.49910251e+00  1.61796865e-01 -5.59710757e-02 -2.01415694e-02\n",
      "  -1.48173641e-01 -1.44084743e-02 -5.43970810e-01 -2.51829107e-03\n",
      "  -2.23180151e-01  1.04437605e-04 -1.11866477e-02  1.76080422e-02\n",
      "  -5.61733227e-04  7.89859008e-04 -7.29621881e-04 -6.91541692e-03\n",
      "   5.10744891e-01 -9.97148047e-02 -5.10129116e-03 -1.89041938e-01\n",
      "  -7.59517251e-03  1.03720290e-01 -1.40678180e-01  7.67704651e-03\n",
      "  -1.15933963e-01 -9.65920564e-04 -4.55543664e-02 -5.15985543e-05\n",
      "   6.37266840e-03 -1.20248657e-04 -1.90119503e-04 -1.35160919e-02\n",
      "   9.14979704e-03 -2.02259708e-04 -1.93102592e-05 -7.46677274e-04\n",
      "   9.84814764e-03]]\n",
      "[-141.89855579]\n"
     ]
    },
    {
     "data": {
      "text/plain": [
       "3.1965276513375467"
      ]
     },
     "execution_count": 25,
     "metadata": {},
     "output_type": "execute_result"
    }
   ],
   "source": [
    "boston_dataset = load_boston()\n",
    "\n",
    "print(\"Original data: \", boston_dataset.data.shape)\n",
    "\n",
    "polynomial_transformer = PolynomialFeatures(2) # 2차 다항함수\n",
    "polynomial_data = polynomial_transformer.fit_transform(boston_dataset.data)\n",
    "\n",
    "print(\"2nd polynomial data: \", polynomial_data.shape)\n",
    "\n",
    "polynomial_feature_names = polynomial_transformer.get_feature_names(boston_dataset.feature_names)\n",
    "\n",
    "X = pd.DataFrame(polynomial_data, columns=polynomial_feature_names)\n",
    "y = pd.DataFrame(boston_dataset.target, columns=['MEDV'])\n",
    "\n",
    "X_train, X_test, y_train, y_test = train_test_split(X, y, test_size=0.2, random_state=5)\n",
    "\n",
    "model = LinearRegression()\n",
    "model.fit(X_train, y_train)\n",
    "\n",
    "print(model.coef_)\n",
    "print(model.intercept_)\n",
    "\n",
    "y_test_predict = model.predict(X_test)\n",
    "\n",
    "mse = mean_squared_error(y_test, y_test_predict)\n",
    "mse ** 0.5"
   ]
  },
  {
   "cell_type": "code",
   "execution_count": null,
   "id": "4e9b15e1",
   "metadata": {},
   "outputs": [],
   "source": []
  }
 ],
 "metadata": {
  "kernelspec": {
   "display_name": "Python 3",
   "language": "python",
   "name": "python3"
  },
  "language_info": {
   "codemirror_mode": {
    "name": "ipython",
    "version": 3
   },
   "file_extension": ".py",
   "mimetype": "text/x-python",
   "name": "python",
   "nbconvert_exporter": "python",
   "pygments_lexer": "ipython3",
   "version": "3.7.10"
  }
 },
 "nbformat": 4,
 "nbformat_minor": 5
}

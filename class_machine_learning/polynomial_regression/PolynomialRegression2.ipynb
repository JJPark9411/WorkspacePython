{
 "cells": [
  {
   "cell_type": "code",
   "execution_count": 11,
   "id": "ba238ee2",
   "metadata": {},
   "outputs": [],
   "source": [
    "# 필요한 라이브러리 import\n",
    "from sklearn import datasets\n",
    "from sklearn.preprocessing import PolynomialFeatures\n",
    "\n",
    "from sklearn.model_selection import train_test_split\n",
    "from sklearn.linear_model import LinearRegression\n",
    "from sklearn.metrics import mean_squared_error\n",
    "\n",
    "import pandas as pd"
   ]
  },
  {
   "cell_type": "code",
   "execution_count": 31,
   "id": "2c0f1295",
   "metadata": {},
   "outputs": [
    {
     "data": {
      "text/plain": [
       "57.877049027249306"
      ]
     },
     "execution_count": 31,
     "metadata": {},
     "output_type": "execute_result"
    }
   ],
   "source": [
    "diabetes_dataset = datasets.load_diabetes()  # 데이터 셋 갖고오기\n",
    "\n",
    "# 코드를 쓰세요\n",
    "# print(\"Original data: \", diabetes_dataset.data.shape)\n",
    "polynomial_transformer = PolynomialFeatures(2)\n",
    "polynomial_data = polynomial_transformer.fit_transform(diabetes_dataset.data)\n",
    "# print(\"Polynomial data: \", polynomial_data.shape)\n",
    "\n",
    "polynomial_feature_names = polynomial_transformer.get_feature_names(diabetes_dataset.feature_names)\n",
    "\n",
    "X = pd.DataFrame(polynomial_data, columns=polynomial_feature_names)\n",
    "y = pd.DataFrame(diabetes_dataset.target, columns=['diabets'])\n",
    "\n",
    "X_train, X_test, y_train, y_test = train_test_split(X, y, test_size=0.2, random_state=5)\n",
    "\n",
    "model = LinearRegression()\n",
    "model.fit(X_train, y_train)\n",
    "\n",
    "# print(model.coef_)\n",
    "# print(model.intercept_)\n",
    "\n",
    "y_test_predict = model.predict(X_test)\n",
    "\n",
    "mse = mean_squared_error(y_test, y_test_predict)\n",
    "mse ** 0.5"
   ]
  }
 ],
 "metadata": {
  "kernelspec": {
   "display_name": "Python 3",
   "language": "python",
   "name": "python3"
  },
  "language_info": {
   "codemirror_mode": {
    "name": "ipython",
    "version": 3
   },
   "file_extension": ".py",
   "mimetype": "text/x-python",
   "name": "python",
   "nbconvert_exporter": "python",
   "pygments_lexer": "ipython3",
   "version": "3.7.10"
  }
 },
 "nbformat": 4,
 "nbformat_minor": 5
}

{
 "cells": [
  {
   "cell_type": "code",
   "execution_count": 7,
   "id": "e8b64de8",
   "metadata": {},
   "outputs": [],
   "source": [
    "import numpy as np\n",
    "\n",
    "def prediction(X, theta):\n",
    "    \"\"\"다중 선형 회귀 가정 함수. 모든 데이터에 대한 예측 값을 numpy 배열로 리턴한다\"\"\"\n",
    "    # 전 과제 코드를 갖고 오세요\n",
    "    return X@theta\n",
    "    \n",
    "\n",
    "def gradient_descent(X, theta, y, iterations, alpha):\n",
    "    \"\"\"다중 선형 회귀 경사 하강법을 구현한 함수\"\"\"\n",
    "    m = len(X)  # 입력 변수 개수 저장\n",
    "    \n",
    "    for _ in range(iterations):\n",
    "        # 코드를 쓰세요\n",
    "        error = prediction(X, theta)-y\n",
    "        theta = theta - alpha/m*(X.T@error)\n",
    "        \n",
    "    return theta"
   ]
  },
  {
   "cell_type": "code",
   "execution_count": 8,
   "id": "7222b084",
   "metadata": {},
   "outputs": [
    {
     "data": {
      "text/plain": [
       "array([0.11484521, 1.21120425, 0.18270523, 0.30060782])"
      ]
     },
     "execution_count": 8,
     "metadata": {},
     "output_type": "execute_result"
    }
   ],
   "source": [
    "# 입력 변수\n",
    "house_size = np.array([1.0, 1.5, 1.8, 5, 2.0, 2.5, 3.0, 3.5, 4.0, 5.0, 6.0, 7.0, 8.0, 8.5, 9.0, 10.0])  # 집 크기\n",
    "distance_from_station = np.array([5, 4.6, 4.2, 3.9, 3.9, 3.6, 3.5, 3.4, 2.9, 2.8, 2.7, 2.3, 2.0, 1.8, 1.5, 1.0])  # 지하철역으로부터의 거리 (km)\n",
    "number_of_rooms = np.array([1, 1, 1, 1, 2, 2, 2, 2, 3, 3, 3, 3, 4, 4, 4, 4])  # 방 수\n",
    "\n",
    "# 목표 변수\n",
    "house_price = np.array([3, 3.2, 3.6 , 8, 3.4, 4.5, 5, 5.8, 6, 6.5, 9, 9, 10, 12, 13, 15])  # 집 가격\n",
    "\n",
    "# 설계 행렬 X 정의\n",
    "X = np.array([\n",
    "    np.ones(16),\n",
    "    house_size,\n",
    "    distance_from_station,\n",
    "    number_of_rooms\n",
    "]).T\n",
    "\n",
    "# 입력 변수 y 정의\n",
    "y = house_price\n",
    "\n",
    "# 파라미터 theta 초기화\n",
    "theta = np.array([0, 0, 0, 0])\n",
    "\n",
    "# 학습률 0.01로 100번 경사 하강\n",
    "theta = gradient_descent(X, theta, y, 100, 0.01)\n",
    "\n",
    "theta"
   ]
  }
 ],
 "metadata": {
  "kernelspec": {
   "display_name": "Python 3",
   "language": "python",
   "name": "python3"
  },
  "language_info": {
   "codemirror_mode": {
    "name": "ipython",
    "version": 3
   },
   "file_extension": ".py",
   "mimetype": "text/x-python",
   "name": "python",
   "nbconvert_exporter": "python",
   "pygments_lexer": "ipython3",
   "version": "3.7.10"
  }
 },
 "nbformat": 4,
 "nbformat_minor": 5
}

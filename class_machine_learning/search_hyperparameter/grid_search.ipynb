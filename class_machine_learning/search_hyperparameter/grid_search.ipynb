{
 "cells": [
  {
   "cell_type": "code",
   "execution_count": 1,
   "id": "cdc68a23",
   "metadata": {},
   "outputs": [],
   "source": [
    "from sklearn.linear_model import Lasso\n",
    "from sklearn.model_selection import train_test_split\n",
    "from sklearn.metrics import mean_squared_error\n",
    "from sklearn.preprocessing import PolynomialFeatures\n",
    "from sklearn.model_selection import GridSearchCV # grid search를 위한 모듈\n",
    "from math import sqrt\n",
    "\n",
    "import numpy as np\n",
    "import pandas as pd"
   ]
  },
  {
   "cell_type": "code",
   "execution_count": 2,
   "id": "7cd29869",
   "metadata": {},
   "outputs": [],
   "source": [
    "# 데이터 준비\n",
    "ADMISSION_FILE_PATH = './datasets/admission_data.csv'\n",
    "admission_df = pd.read_csv(ADMISSION_FILE_PATH)\n",
    "\n",
    "X = admission_df.drop('Chance of Admit ', axis=1)\n",
    "\n",
    "polynomial_transformer = PolynomialFeatures(2)\n",
    "polynomial_features = polynomial_transformer.fit_transform(X.values)\n",
    "\n",
    "features = polynomial_transformer.get_feature_names(X.columns)\n",
    "\n",
    "X = pd.DataFrame(polynomial_features, columns=features)\n",
    "y = admission_df[['Chance of Admit ']]"
   ]
  },
  {
   "cell_type": "code",
   "execution_count": 3,
   "id": "a241a9e6",
   "metadata": {},
   "outputs": [
    {
     "name": "stderr",
     "output_type": "stream",
     "text": [
      "/Users/park/opt/anaconda3/envs/py37_tensorflow/lib/python3.7/site-packages/sklearn/linear_model/_coordinate_descent.py:532: ConvergenceWarning: Objective did not converge. You might want to increase the number of iterations. Duality gap: 0.4253997472132121, tolerance: 0.0006706039000000001\n",
      "  positive)\n",
      "/Users/park/opt/anaconda3/envs/py37_tensorflow/lib/python3.7/site-packages/sklearn/linear_model/_coordinate_descent.py:532: ConvergenceWarning: Objective did not converge. You might want to increase the number of iterations. Duality gap: 0.6427237098660835, tolerance: 0.0008245817750000001\n",
      "  positive)\n",
      "/Users/park/opt/anaconda3/envs/py37_tensorflow/lib/python3.7/site-packages/sklearn/linear_model/_coordinate_descent.py:532: ConvergenceWarning: Objective did not converge. You might want to increase the number of iterations. Duality gap: 0.7268361771953716, tolerance: 0.000859015775\n",
      "  positive)\n",
      "/Users/park/opt/anaconda3/envs/py37_tensorflow/lib/python3.7/site-packages/sklearn/linear_model/_coordinate_descent.py:532: ConvergenceWarning: Objective did not converge. You might want to increase the number of iterations. Duality gap: 0.6364317724064632, tolerance: 0.0007997223999999999\n",
      "  positive)\n",
      "/Users/park/opt/anaconda3/envs/py37_tensorflow/lib/python3.7/site-packages/sklearn/linear_model/_coordinate_descent.py:532: ConvergenceWarning: Objective did not converge. You might want to increase the number of iterations. Duality gap: 0.6963222954602127, tolerance: 0.0008114630999999999\n",
      "  positive)\n",
      "/Users/park/opt/anaconda3/envs/py37_tensorflow/lib/python3.7/site-packages/sklearn/linear_model/_coordinate_descent.py:532: ConvergenceWarning: Objective did not converge. You might want to increase the number of iterations. Duality gap: 0.41804137263725577, tolerance: 0.0006706039000000001\n",
      "  positive)\n",
      "/Users/park/opt/anaconda3/envs/py37_tensorflow/lib/python3.7/site-packages/sklearn/linear_model/_coordinate_descent.py:532: ConvergenceWarning: Objective did not converge. You might want to increase the number of iterations. Duality gap: 0.6367536921074392, tolerance: 0.0008245817750000001\n",
      "  positive)\n",
      "/Users/park/opt/anaconda3/envs/py37_tensorflow/lib/python3.7/site-packages/sklearn/linear_model/_coordinate_descent.py:532: ConvergenceWarning: Objective did not converge. You might want to increase the number of iterations. Duality gap: 0.720715408925344, tolerance: 0.000859015775\n",
      "  positive)\n",
      "/Users/park/opt/anaconda3/envs/py37_tensorflow/lib/python3.7/site-packages/sklearn/linear_model/_coordinate_descent.py:532: ConvergenceWarning: Objective did not converge. You might want to increase the number of iterations. Duality gap: 0.6307153394423204, tolerance: 0.0007997223999999999\n",
      "  positive)\n",
      "/Users/park/opt/anaconda3/envs/py37_tensorflow/lib/python3.7/site-packages/sklearn/linear_model/_coordinate_descent.py:532: ConvergenceWarning: Objective did not converge. You might want to increase the number of iterations. Duality gap: 0.6917305509775313, tolerance: 0.0008114630999999999\n",
      "  positive)\n",
      "/Users/park/opt/anaconda3/envs/py37_tensorflow/lib/python3.7/site-packages/sklearn/linear_model/_coordinate_descent.py:532: ConvergenceWarning: Objective did not converge. You might want to increase the number of iterations. Duality gap: 0.38139406350334576, tolerance: 0.0006706039000000001\n",
      "  positive)\n",
      "/Users/park/opt/anaconda3/envs/py37_tensorflow/lib/python3.7/site-packages/sklearn/linear_model/_coordinate_descent.py:532: ConvergenceWarning: Objective did not converge. You might want to increase the number of iterations. Duality gap: 0.6337331617287256, tolerance: 0.0008245817750000001\n",
      "  positive)\n",
      "/Users/park/opt/anaconda3/envs/py37_tensorflow/lib/python3.7/site-packages/sklearn/linear_model/_coordinate_descent.py:532: ConvergenceWarning: Objective did not converge. You might want to increase the number of iterations. Duality gap: 0.7147572370410493, tolerance: 0.000859015775\n",
      "  positive)\n",
      "/Users/park/opt/anaconda3/envs/py37_tensorflow/lib/python3.7/site-packages/sklearn/linear_model/_coordinate_descent.py:532: ConvergenceWarning: Objective did not converge. You might want to increase the number of iterations. Duality gap: 0.6272640425010632, tolerance: 0.0007997223999999999\n",
      "  positive)\n",
      "/Users/park/opt/anaconda3/envs/py37_tensorflow/lib/python3.7/site-packages/sklearn/linear_model/_coordinate_descent.py:532: ConvergenceWarning: Objective did not converge. You might want to increase the number of iterations. Duality gap: 0.6877283781941107, tolerance: 0.0008114630999999999\n",
      "  positive)\n",
      "/Users/park/opt/anaconda3/envs/py37_tensorflow/lib/python3.7/site-packages/sklearn/linear_model/_coordinate_descent.py:532: ConvergenceWarning: Objective did not converge. You might want to increase the number of iterations. Duality gap: 0.35823559789618975, tolerance: 0.0006706039000000001\n",
      "  positive)\n",
      "/Users/park/opt/anaconda3/envs/py37_tensorflow/lib/python3.7/site-packages/sklearn/linear_model/_coordinate_descent.py:532: ConvergenceWarning: Objective did not converge. You might want to increase the number of iterations. Duality gap: 0.6329945142204267, tolerance: 0.0008245817750000001\n",
      "  positive)\n",
      "/Users/park/opt/anaconda3/envs/py37_tensorflow/lib/python3.7/site-packages/sklearn/linear_model/_coordinate_descent.py:532: ConvergenceWarning: Objective did not converge. You might want to increase the number of iterations. Duality gap: 0.716008456609446, tolerance: 0.000859015775\n",
      "  positive)\n",
      "/Users/park/opt/anaconda3/envs/py37_tensorflow/lib/python3.7/site-packages/sklearn/linear_model/_coordinate_descent.py:532: ConvergenceWarning: Objective did not converge. You might want to increase the number of iterations. Duality gap: 0.6286326647079462, tolerance: 0.0007997223999999999\n",
      "  positive)\n",
      "/Users/park/opt/anaconda3/envs/py37_tensorflow/lib/python3.7/site-packages/sklearn/linear_model/_coordinate_descent.py:532: ConvergenceWarning: Objective did not converge. You might want to increase the number of iterations. Duality gap: 0.6824704561525831, tolerance: 0.0008114630999999999\n",
      "  positive)\n",
      "/Users/park/opt/anaconda3/envs/py37_tensorflow/lib/python3.7/site-packages/sklearn/linear_model/_coordinate_descent.py:532: ConvergenceWarning: Objective did not converge. You might want to increase the number of iterations. Duality gap: 0.3581814283368731, tolerance: 0.0006706039000000001\n",
      "  positive)\n",
      "/Users/park/opt/anaconda3/envs/py37_tensorflow/lib/python3.7/site-packages/sklearn/linear_model/_coordinate_descent.py:532: ConvergenceWarning: Objective did not converge. You might want to increase the number of iterations. Duality gap: 0.5533129048473864, tolerance: 0.0008245817750000001\n",
      "  positive)\n",
      "/Users/park/opt/anaconda3/envs/py37_tensorflow/lib/python3.7/site-packages/sklearn/linear_model/_coordinate_descent.py:532: ConvergenceWarning: Objective did not converge. You might want to increase the number of iterations. Duality gap: 0.7153730577890144, tolerance: 0.000859015775\n",
      "  positive)\n",
      "/Users/park/opt/anaconda3/envs/py37_tensorflow/lib/python3.7/site-packages/sklearn/linear_model/_coordinate_descent.py:532: ConvergenceWarning: Objective did not converge. You might want to increase the number of iterations. Duality gap: 0.6255174062346287, tolerance: 0.0007997223999999999\n",
      "  positive)\n",
      "/Users/park/opt/anaconda3/envs/py37_tensorflow/lib/python3.7/site-packages/sklearn/linear_model/_coordinate_descent.py:532: ConvergenceWarning: Objective did not converge. You might want to increase the number of iterations. Duality gap: 0.6673846700425614, tolerance: 0.0008114630999999999\n",
      "  positive)\n",
      "/Users/park/opt/anaconda3/envs/py37_tensorflow/lib/python3.7/site-packages/sklearn/linear_model/_coordinate_descent.py:532: ConvergenceWarning: Objective did not converge. You might want to increase the number of iterations. Duality gap: 0.436071725111869, tolerance: 0.0006706039000000001\n",
      "  positive)\n",
      "/Users/park/opt/anaconda3/envs/py37_tensorflow/lib/python3.7/site-packages/sklearn/linear_model/_coordinate_descent.py:532: ConvergenceWarning: Objective did not converge. You might want to increase the number of iterations. Duality gap: 0.6627303534999374, tolerance: 0.0008245817750000001\n",
      "  positive)\n",
      "/Users/park/opt/anaconda3/envs/py37_tensorflow/lib/python3.7/site-packages/sklearn/linear_model/_coordinate_descent.py:532: ConvergenceWarning: Objective did not converge. You might want to increase the number of iterations. Duality gap: 0.7354661917783782, tolerance: 0.000859015775\n",
      "  positive)\n",
      "/Users/park/opt/anaconda3/envs/py37_tensorflow/lib/python3.7/site-packages/sklearn/linear_model/_coordinate_descent.py:532: ConvergenceWarning: Objective did not converge. You might want to increase the number of iterations. Duality gap: 0.6449387332179902, tolerance: 0.0007997223999999999\n",
      "  positive)\n",
      "/Users/park/opt/anaconda3/envs/py37_tensorflow/lib/python3.7/site-packages/sklearn/linear_model/_coordinate_descent.py:532: ConvergenceWarning: Objective did not converge. You might want to increase the number of iterations. Duality gap: 0.705302460730252, tolerance: 0.0008114630999999999\n",
      "  positive)\n",
      "/Users/park/opt/anaconda3/envs/py37_tensorflow/lib/python3.7/site-packages/sklearn/linear_model/_coordinate_descent.py:532: ConvergenceWarning: Objective did not converge. You might want to increase the number of iterations. Duality gap: 0.15341008856645466, tolerance: 0.0006706039000000001\n",
      "  positive)\n",
      "/Users/park/opt/anaconda3/envs/py37_tensorflow/lib/python3.7/site-packages/sklearn/linear_model/_coordinate_descent.py:532: ConvergenceWarning: Objective did not converge. You might want to increase the number of iterations. Duality gap: 0.6207512911666879, tolerance: 0.0008245817750000001\n",
      "  positive)\n",
      "/Users/park/opt/anaconda3/envs/py37_tensorflow/lib/python3.7/site-packages/sklearn/linear_model/_coordinate_descent.py:532: ConvergenceWarning: Objective did not converge. You might want to increase the number of iterations. Duality gap: 0.523718498036931, tolerance: 0.000859015775\n",
      "  positive)\n",
      "/Users/park/opt/anaconda3/envs/py37_tensorflow/lib/python3.7/site-packages/sklearn/linear_model/_coordinate_descent.py:532: ConvergenceWarning: Objective did not converge. You might want to increase the number of iterations. Duality gap: 0.44014746799796, tolerance: 0.0007997223999999999\n",
      "  positive)\n",
      "/Users/park/opt/anaconda3/envs/py37_tensorflow/lib/python3.7/site-packages/sklearn/linear_model/_coordinate_descent.py:532: ConvergenceWarning: Objective did not converge. You might want to increase the number of iterations. Duality gap: 0.6479339766744343, tolerance: 0.0008114630999999999\n",
      "  positive)\n",
      "/Users/park/opt/anaconda3/envs/py37_tensorflow/lib/python3.7/site-packages/sklearn/linear_model/_coordinate_descent.py:532: ConvergenceWarning: Objective did not converge. You might want to increase the number of iterations. Duality gap: 0.2814801664132909, tolerance: 0.0006706039000000001\n",
      "  positive)\n",
      "/Users/park/opt/anaconda3/envs/py37_tensorflow/lib/python3.7/site-packages/sklearn/linear_model/_coordinate_descent.py:532: ConvergenceWarning: Objective did not converge. You might want to increase the number of iterations. Duality gap: 0.5805234782469315, tolerance: 0.0008245817750000001\n",
      "  positive)\n",
      "/Users/park/opt/anaconda3/envs/py37_tensorflow/lib/python3.7/site-packages/sklearn/linear_model/_coordinate_descent.py:532: ConvergenceWarning: Objective did not converge. You might want to increase the number of iterations. Duality gap: 0.37553307694507493, tolerance: 0.000859015775\n",
      "  positive)\n",
      "/Users/park/opt/anaconda3/envs/py37_tensorflow/lib/python3.7/site-packages/sklearn/linear_model/_coordinate_descent.py:532: ConvergenceWarning: Objective did not converge. You might want to increase the number of iterations. Duality gap: 0.25482008734165285, tolerance: 0.0007997223999999999\n",
      "  positive)\n"
     ]
    },
    {
     "name": "stderr",
     "output_type": "stream",
     "text": [
      "/Users/park/opt/anaconda3/envs/py37_tensorflow/lib/python3.7/site-packages/sklearn/linear_model/_coordinate_descent.py:532: ConvergenceWarning: Objective did not converge. You might want to increase the number of iterations. Duality gap: 0.6318652688804568, tolerance: 0.0008114630999999999\n",
      "  positive)\n",
      "/Users/park/opt/anaconda3/envs/py37_tensorflow/lib/python3.7/site-packages/sklearn/linear_model/_coordinate_descent.py:532: ConvergenceWarning: Objective did not converge. You might want to increase the number of iterations. Duality gap: 0.22410745261381035, tolerance: 0.0006706039000000001\n",
      "  positive)\n",
      "/Users/park/opt/anaconda3/envs/py37_tensorflow/lib/python3.7/site-packages/sklearn/linear_model/_coordinate_descent.py:532: ConvergenceWarning: Objective did not converge. You might want to increase the number of iterations. Duality gap: 0.48773319472971655, tolerance: 0.0008245817750000001\n",
      "  positive)\n",
      "/Users/park/opt/anaconda3/envs/py37_tensorflow/lib/python3.7/site-packages/sklearn/linear_model/_coordinate_descent.py:532: ConvergenceWarning: Objective did not converge. You might want to increase the number of iterations. Duality gap: 0.1850014291872144, tolerance: 0.000859015775\n",
      "  positive)\n",
      "/Users/park/opt/anaconda3/envs/py37_tensorflow/lib/python3.7/site-packages/sklearn/linear_model/_coordinate_descent.py:532: ConvergenceWarning: Objective did not converge. You might want to increase the number of iterations. Duality gap: 0.12165472909513975, tolerance: 0.0007997223999999999\n",
      "  positive)\n",
      "/Users/park/opt/anaconda3/envs/py37_tensorflow/lib/python3.7/site-packages/sklearn/linear_model/_coordinate_descent.py:532: ConvergenceWarning: Objective did not converge. You might want to increase the number of iterations. Duality gap: 0.592611625358416, tolerance: 0.0008114630999999999\n",
      "  positive)\n",
      "/Users/park/opt/anaconda3/envs/py37_tensorflow/lib/python3.7/site-packages/sklearn/linear_model/_coordinate_descent.py:532: ConvergenceWarning: Objective did not converge. You might want to increase the number of iterations. Duality gap: 0.14837409686524528, tolerance: 0.0006706039000000001\n",
      "  positive)\n",
      "/Users/park/opt/anaconda3/envs/py37_tensorflow/lib/python3.7/site-packages/sklearn/linear_model/_coordinate_descent.py:532: ConvergenceWarning: Objective did not converge. You might want to increase the number of iterations. Duality gap: 0.31056819628977, tolerance: 0.0008245817750000001\n",
      "  positive)\n",
      "/Users/park/opt/anaconda3/envs/py37_tensorflow/lib/python3.7/site-packages/sklearn/linear_model/_coordinate_descent.py:532: ConvergenceWarning: Objective did not converge. You might want to increase the number of iterations. Duality gap: 0.06924497432357901, tolerance: 0.000859015775\n",
      "  positive)\n",
      "/Users/park/opt/anaconda3/envs/py37_tensorflow/lib/python3.7/site-packages/sklearn/linear_model/_coordinate_descent.py:532: ConvergenceWarning: Objective did not converge. You might want to increase the number of iterations. Duality gap: 0.038612692705461193, tolerance: 0.0007997223999999999\n",
      "  positive)\n",
      "/Users/park/opt/anaconda3/envs/py37_tensorflow/lib/python3.7/site-packages/sklearn/linear_model/_coordinate_descent.py:532: ConvergenceWarning: Objective did not converge. You might want to increase the number of iterations. Duality gap: 0.5370884100639934, tolerance: 0.0008114630999999999\n",
      "  positive)\n",
      "/Users/park/opt/anaconda3/envs/py37_tensorflow/lib/python3.7/site-packages/sklearn/linear_model/_coordinate_descent.py:532: ConvergenceWarning: Objective did not converge. You might want to increase the number of iterations. Duality gap: 0.20204337169078562, tolerance: 0.0006706039000000001\n",
      "  positive)\n",
      "/Users/park/opt/anaconda3/envs/py37_tensorflow/lib/python3.7/site-packages/sklearn/linear_model/_coordinate_descent.py:532: ConvergenceWarning: Objective did not converge. You might want to increase the number of iterations. Duality gap: 0.6261958180810681, tolerance: 0.0008245817750000001\n",
      "  positive)\n",
      "/Users/park/opt/anaconda3/envs/py37_tensorflow/lib/python3.7/site-packages/sklearn/linear_model/_coordinate_descent.py:532: ConvergenceWarning: Objective did not converge. You might want to increase the number of iterations. Duality gap: 0.732301754330795, tolerance: 0.000859015775\n",
      "  positive)\n",
      "/Users/park/opt/anaconda3/envs/py37_tensorflow/lib/python3.7/site-packages/sklearn/linear_model/_coordinate_descent.py:532: ConvergenceWarning: Objective did not converge. You might want to increase the number of iterations. Duality gap: 0.6706071091856831, tolerance: 0.0007997223999999999\n",
      "  positive)\n",
      "/Users/park/opt/anaconda3/envs/py37_tensorflow/lib/python3.7/site-packages/sklearn/linear_model/_coordinate_descent.py:532: ConvergenceWarning: Objective did not converge. You might want to increase the number of iterations. Duality gap: 0.2986990116758842, tolerance: 0.0008114630999999999\n",
      "  positive)\n",
      "/Users/park/opt/anaconda3/envs/py37_tensorflow/lib/python3.7/site-packages/sklearn/linear_model/_coordinate_descent.py:532: ConvergenceWarning: Objective did not converge. You might want to increase the number of iterations. Duality gap: 0.14551702483248508, tolerance: 0.0006706039000000001\n",
      "  positive)\n",
      "/Users/park/opt/anaconda3/envs/py37_tensorflow/lib/python3.7/site-packages/sklearn/linear_model/_coordinate_descent.py:532: ConvergenceWarning: Objective did not converge. You might want to increase the number of iterations. Duality gap: 0.07437015298563221, tolerance: 0.0006706039000000001\n",
      "  positive)\n",
      "/Users/park/opt/anaconda3/envs/py37_tensorflow/lib/python3.7/site-packages/sklearn/linear_model/_coordinate_descent.py:532: ConvergenceWarning: Objective did not converge. You might want to increase the number of iterations. Duality gap: 0.035142407019033706, tolerance: 0.0006706039000000001\n",
      "  positive)\n",
      "/Users/park/opt/anaconda3/envs/py37_tensorflow/lib/python3.7/site-packages/sklearn/linear_model/_coordinate_descent.py:532: ConvergenceWarning: Objective did not converge. You might want to increase the number of iterations. Duality gap: 0.016347039636743443, tolerance: 0.0006706039000000001\n",
      "  positive)\n",
      "/Users/park/opt/anaconda3/envs/py37_tensorflow/lib/python3.7/site-packages/sklearn/linear_model/_coordinate_descent.py:532: ConvergenceWarning: Objective did not converge. You might want to increase the number of iterations. Duality gap: 0.16968472293031445, tolerance: 0.0008245817750000001\n",
      "  positive)\n",
      "/Users/park/opt/anaconda3/envs/py37_tensorflow/lib/python3.7/site-packages/sklearn/linear_model/_coordinate_descent.py:532: ConvergenceWarning: Objective did not converge. You might want to increase the number of iterations. Duality gap: 0.1873182957090025, tolerance: 0.000859015775\n",
      "  positive)\n",
      "/Users/park/opt/anaconda3/envs/py37_tensorflow/lib/python3.7/site-packages/sklearn/linear_model/_coordinate_descent.py:532: ConvergenceWarning: Objective did not converge. You might want to increase the number of iterations. Duality gap: 0.02558618951667757, tolerance: 0.0007997223999999999\n",
      "  positive)\n",
      "/Users/park/opt/anaconda3/envs/py37_tensorflow/lib/python3.7/site-packages/sklearn/linear_model/_coordinate_descent.py:532: ConvergenceWarning: Objective did not converge. You might want to increase the number of iterations. Duality gap: 0.031104601829429646, tolerance: 0.0008114630999999999\n",
      "  positive)\n",
      "/Users/park/opt/anaconda3/envs/py37_tensorflow/lib/python3.7/site-packages/sklearn/linear_model/_coordinate_descent.py:532: ConvergenceWarning: Objective did not converge. You might want to increase the number of iterations. Duality gap: 0.7910950882660412, tolerance: 0.0009940386200000002\n",
      "  positive)\n"
     ]
    },
    {
     "data": {
      "text/plain": [
       "GridSearchCV(cv=5, estimator=Lasso(),\n",
       "             param_grid={'alpha': [0.01, 0.1, 1, 10],\n",
       "                         'max_iter': [100, 500, 1000, 1500, 2000]})"
      ]
     },
     "execution_count": 3,
     "metadata": {},
     "output_type": "execute_result"
    }
   ],
   "source": [
    "hyper_parameter = {\n",
    "    'alpha': [0.01, 0.1, 1, 10],\n",
    "    'max_iter': [100, 500, 1000, 1500, 2000]\n",
    "}\n",
    "\n",
    "lasso_model = Lasso()\n",
    "\n",
    "hyper_parameter_tuner = GridSearchCV(lasso_model, hyper_parameter, cv=5) # cv는 교차검증의 k값을 의미\n",
    "hyper_parameter_tuner.fit(X, y)"
   ]
  },
  {
   "cell_type": "code",
   "execution_count": 4,
   "id": "075e894f",
   "metadata": {},
   "outputs": [
    {
     "data": {
      "text/plain": [
       "{'alpha': 1, 'max_iter': 100}"
      ]
     },
     "execution_count": 4,
     "metadata": {},
     "output_type": "execute_result"
    }
   ],
   "source": [
    "hyper_parameter_tuner.best_params_"
   ]
  }
 ],
 "metadata": {
  "kernelspec": {
   "display_name": "Python 3",
   "language": "python",
   "name": "python3"
  },
  "language_info": {
   "codemirror_mode": {
    "name": "ipython",
    "version": 3
   },
   "file_extension": ".py",
   "mimetype": "text/x-python",
   "name": "python",
   "nbconvert_exporter": "python",
   "pygments_lexer": "ipython3",
   "version": "3.7.10"
  }
 },
 "nbformat": 4,
 "nbformat_minor": 5
}

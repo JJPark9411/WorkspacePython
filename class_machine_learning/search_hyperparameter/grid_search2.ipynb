{
 "cells": [
  {
   "cell_type": "code",
   "execution_count": 1,
   "id": "7047341f",
   "metadata": {},
   "outputs": [],
   "source": [
    "from sklearn.linear_model import LogisticRegression\n",
    "from sklearn.model_selection import GridSearchCV\n",
    "\n",
    "import numpy as np\n",
    "import pandas as pd\n",
    "\n",
    "# 경고 메시지 출력 억제 코드\n",
    "import warnings\n",
    "warnings.simplefilter(action='ignore')"
   ]
  },
  {
   "cell_type": "code",
   "execution_count": 2,
   "id": "d5ce10f1",
   "metadata": {},
   "outputs": [],
   "source": [
    "GENDER_FILE_PATH = './datasets/gender.csv'"
   ]
  },
  {
   "cell_type": "code",
   "execution_count": 3,
   "id": "c2349e97",
   "metadata": {},
   "outputs": [
    {
     "data": {
      "text/plain": [
       "{'max_iter': 500, 'penalty': 'l2'}"
      ]
     },
     "execution_count": 3,
     "metadata": {},
     "output_type": "execute_result"
    }
   ],
   "source": [
    "# 데이터 셋을 가지고 온다\n",
    "gender_df = pd.read_csv(GENDER_FILE_PATH)\n",
    "\n",
    "X = pd.get_dummies(gender_df.drop(['Gender'], axis=1)) # 입력 변수를 one-hot encode한다\n",
    "y = gender_df[['Gender']].values.ravel()\n",
    "\n",
    "# 여기 코드를 쓰세요\n",
    "logistic_model = LogisticRegression()\n",
    "\n",
    "hyper_parameter = {\n",
    "    'penalty': ['l1', 'l2'],\n",
    "    'max_iter': [500, 1000, 1500, 2000]\n",
    "}\n",
    "\n",
    "hyper_parameter_tuner = GridSearchCV(logistic_model, hyper_parameter, cv=5)\n",
    "hyper_parameter_tuner.fit(X, y)\n",
    "\n",
    "best_params = hyper_parameter_tuner.best_params_\n",
    "\n",
    "# 체점용 코드\n",
    "best_params"
   ]
  }
 ],
 "metadata": {
  "kernelspec": {
   "display_name": "Python 3",
   "language": "python",
   "name": "python3"
  },
  "language_info": {
   "codemirror_mode": {
    "name": "ipython",
    "version": 3
   },
   "file_extension": ".py",
   "mimetype": "text/x-python",
   "name": "python",
   "nbconvert_exporter": "python",
   "pygments_lexer": "ipython3",
   "version": "3.7.10"
  }
 },
 "nbformat": 4,
 "nbformat_minor": 5
}

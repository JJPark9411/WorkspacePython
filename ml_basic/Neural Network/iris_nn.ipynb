{
 "cells": [
  {
   "cell_type": "code",
   "execution_count": 1,
   "metadata": {},
   "outputs": [],
   "source": [
    "import pandas as pd\n",
    "\n",
    "# Location of dataset\n",
    "url = \"https://archive.ics.uci.edu/ml/machine-learning-databases/iris/iris.data\"\n",
    "\n",
    "# Assign colum names to the dataset\n",
    "names = ['sepal-length', 'sepal-width', 'petal-length', 'petal-width', 'Class']\n",
    "\n",
    "# Read dataset to pandas dataframe\n",
    "irisdata = pd.read_csv(url, names=names)  "
   ]
  },
  {
   "cell_type": "code",
   "execution_count": 2,
   "metadata": {},
   "outputs": [
    {
     "data": {
      "text/html": [
       "<div>\n",
       "<style scoped>\n",
       "    .dataframe tbody tr th:only-of-type {\n",
       "        vertical-align: middle;\n",
       "    }\n",
       "\n",
       "    .dataframe tbody tr th {\n",
       "        vertical-align: top;\n",
       "    }\n",
       "\n",
       "    .dataframe thead th {\n",
       "        text-align: right;\n",
       "    }\n",
       "</style>\n",
       "<table border=\"1\" class=\"dataframe\">\n",
       "  <thead>\n",
       "    <tr style=\"text-align: right;\">\n",
       "      <th></th>\n",
       "      <th>sepal-length</th>\n",
       "      <th>sepal-width</th>\n",
       "      <th>petal-length</th>\n",
       "      <th>petal-width</th>\n",
       "      <th>Class</th>\n",
       "    </tr>\n",
       "  </thead>\n",
       "  <tbody>\n",
       "    <tr>\n",
       "      <th>0</th>\n",
       "      <td>5.1</td>\n",
       "      <td>3.5</td>\n",
       "      <td>1.4</td>\n",
       "      <td>0.2</td>\n",
       "      <td>Iris-setosa</td>\n",
       "    </tr>\n",
       "    <tr>\n",
       "      <th>1</th>\n",
       "      <td>4.9</td>\n",
       "      <td>3.0</td>\n",
       "      <td>1.4</td>\n",
       "      <td>0.2</td>\n",
       "      <td>Iris-setosa</td>\n",
       "    </tr>\n",
       "    <tr>\n",
       "      <th>2</th>\n",
       "      <td>4.7</td>\n",
       "      <td>3.2</td>\n",
       "      <td>1.3</td>\n",
       "      <td>0.2</td>\n",
       "      <td>Iris-setosa</td>\n",
       "    </tr>\n",
       "    <tr>\n",
       "      <th>3</th>\n",
       "      <td>4.6</td>\n",
       "      <td>3.1</td>\n",
       "      <td>1.5</td>\n",
       "      <td>0.2</td>\n",
       "      <td>Iris-setosa</td>\n",
       "    </tr>\n",
       "    <tr>\n",
       "      <th>4</th>\n",
       "      <td>5.0</td>\n",
       "      <td>3.6</td>\n",
       "      <td>1.4</td>\n",
       "      <td>0.2</td>\n",
       "      <td>Iris-setosa</td>\n",
       "    </tr>\n",
       "  </tbody>\n",
       "</table>\n",
       "</div>"
      ],
      "text/plain": [
       "   sepal-length  sepal-width  petal-length  petal-width        Class\n",
       "0           5.1          3.5           1.4          0.2  Iris-setosa\n",
       "1           4.9          3.0           1.4          0.2  Iris-setosa\n",
       "2           4.7          3.2           1.3          0.2  Iris-setosa\n",
       "3           4.6          3.1           1.5          0.2  Iris-setosa\n",
       "4           5.0          3.6           1.4          0.2  Iris-setosa"
      ]
     },
     "execution_count": 2,
     "metadata": {},
     "output_type": "execute_result"
    }
   ],
   "source": [
    "irisdata.head()"
   ]
  },
  {
   "cell_type": "code",
   "execution_count": 3,
   "metadata": {},
   "outputs": [],
   "source": [
    "# Assign data from first four columns to X variable\n",
    "X = irisdata.iloc[:, 0:4]\n",
    "\n",
    "# Assign data from first fifth columns to y variable\n",
    "y = irisdata.select_dtypes(include=[object])  "
   ]
  },
  {
   "cell_type": "code",
   "execution_count": 4,
   "metadata": {},
   "outputs": [
    {
     "data": {
      "text/html": [
       "<div>\n",
       "<style scoped>\n",
       "    .dataframe tbody tr th:only-of-type {\n",
       "        vertical-align: middle;\n",
       "    }\n",
       "\n",
       "    .dataframe tbody tr th {\n",
       "        vertical-align: top;\n",
       "    }\n",
       "\n",
       "    .dataframe thead th {\n",
       "        text-align: right;\n",
       "    }\n",
       "</style>\n",
       "<table border=\"1\" class=\"dataframe\">\n",
       "  <thead>\n",
       "    <tr style=\"text-align: right;\">\n",
       "      <th></th>\n",
       "      <th>Class</th>\n",
       "    </tr>\n",
       "  </thead>\n",
       "  <tbody>\n",
       "    <tr>\n",
       "      <th>0</th>\n",
       "      <td>Iris-setosa</td>\n",
       "    </tr>\n",
       "    <tr>\n",
       "      <th>1</th>\n",
       "      <td>Iris-setosa</td>\n",
       "    </tr>\n",
       "    <tr>\n",
       "      <th>2</th>\n",
       "      <td>Iris-setosa</td>\n",
       "    </tr>\n",
       "    <tr>\n",
       "      <th>3</th>\n",
       "      <td>Iris-setosa</td>\n",
       "    </tr>\n",
       "    <tr>\n",
       "      <th>4</th>\n",
       "      <td>Iris-setosa</td>\n",
       "    </tr>\n",
       "  </tbody>\n",
       "</table>\n",
       "</div>"
      ],
      "text/plain": [
       "         Class\n",
       "0  Iris-setosa\n",
       "1  Iris-setosa\n",
       "2  Iris-setosa\n",
       "3  Iris-setosa\n",
       "4  Iris-setosa"
      ]
     },
     "execution_count": 4,
     "metadata": {},
     "output_type": "execute_result"
    }
   ],
   "source": [
    "y.head()"
   ]
  },
  {
   "cell_type": "code",
   "execution_count": 5,
   "metadata": {},
   "outputs": [
    {
     "data": {
      "text/html": [
       "<div>\n",
       "<style scoped>\n",
       "    .dataframe tbody tr th:only-of-type {\n",
       "        vertical-align: middle;\n",
       "    }\n",
       "\n",
       "    .dataframe tbody tr th {\n",
       "        vertical-align: top;\n",
       "    }\n",
       "\n",
       "    .dataframe thead th {\n",
       "        text-align: right;\n",
       "    }\n",
       "</style>\n",
       "<table border=\"1\" class=\"dataframe\">\n",
       "  <thead>\n",
       "    <tr style=\"text-align: right;\">\n",
       "      <th></th>\n",
       "      <th>sepal-length</th>\n",
       "      <th>sepal-width</th>\n",
       "      <th>petal-length</th>\n",
       "      <th>petal-width</th>\n",
       "    </tr>\n",
       "  </thead>\n",
       "  <tbody>\n",
       "    <tr>\n",
       "      <th>0</th>\n",
       "      <td>5.1</td>\n",
       "      <td>3.5</td>\n",
       "      <td>1.4</td>\n",
       "      <td>0.2</td>\n",
       "    </tr>\n",
       "    <tr>\n",
       "      <th>1</th>\n",
       "      <td>4.9</td>\n",
       "      <td>3.0</td>\n",
       "      <td>1.4</td>\n",
       "      <td>0.2</td>\n",
       "    </tr>\n",
       "    <tr>\n",
       "      <th>2</th>\n",
       "      <td>4.7</td>\n",
       "      <td>3.2</td>\n",
       "      <td>1.3</td>\n",
       "      <td>0.2</td>\n",
       "    </tr>\n",
       "    <tr>\n",
       "      <th>3</th>\n",
       "      <td>4.6</td>\n",
       "      <td>3.1</td>\n",
       "      <td>1.5</td>\n",
       "      <td>0.2</td>\n",
       "    </tr>\n",
       "    <tr>\n",
       "      <th>4</th>\n",
       "      <td>5.0</td>\n",
       "      <td>3.6</td>\n",
       "      <td>1.4</td>\n",
       "      <td>0.2</td>\n",
       "    </tr>\n",
       "  </tbody>\n",
       "</table>\n",
       "</div>"
      ],
      "text/plain": [
       "   sepal-length  sepal-width  petal-length  petal-width\n",
       "0           5.1          3.5           1.4          0.2\n",
       "1           4.9          3.0           1.4          0.2\n",
       "2           4.7          3.2           1.3          0.2\n",
       "3           4.6          3.1           1.5          0.2\n",
       "4           5.0          3.6           1.4          0.2"
      ]
     },
     "execution_count": 5,
     "metadata": {},
     "output_type": "execute_result"
    }
   ],
   "source": [
    "X.head()"
   ]
  },
  {
   "cell_type": "code",
   "execution_count": 6,
   "metadata": {},
   "outputs": [
    {
     "data": {
      "text/plain": [
       "array(['Iris-setosa', 'Iris-versicolor', 'Iris-virginica'], dtype=object)"
      ]
     },
     "execution_count": 6,
     "metadata": {},
     "output_type": "execute_result"
    }
   ],
   "source": [
    "y.Class.unique()  "
   ]
  },
  {
   "cell_type": "code",
   "execution_count": 7,
   "metadata": {},
   "outputs": [],
   "source": [
    "from sklearn import preprocessing  \n",
    "le = preprocessing.LabelEncoder()\n",
    "\n",
    "y = y.apply(le.fit_transform)  "
   ]
  },
  {
   "cell_type": "code",
   "execution_count": 8,
   "metadata": {
    "scrolled": true
   },
   "outputs": [
    {
     "data": {
      "text/html": [
       "<div>\n",
       "<style scoped>\n",
       "    .dataframe tbody tr th:only-of-type {\n",
       "        vertical-align: middle;\n",
       "    }\n",
       "\n",
       "    .dataframe tbody tr th {\n",
       "        vertical-align: top;\n",
       "    }\n",
       "\n",
       "    .dataframe thead th {\n",
       "        text-align: right;\n",
       "    }\n",
       "</style>\n",
       "<table border=\"1\" class=\"dataframe\">\n",
       "  <thead>\n",
       "    <tr style=\"text-align: right;\">\n",
       "      <th></th>\n",
       "      <th>Class</th>\n",
       "    </tr>\n",
       "  </thead>\n",
       "  <tbody>\n",
       "    <tr>\n",
       "      <th>0</th>\n",
       "      <td>0</td>\n",
       "    </tr>\n",
       "    <tr>\n",
       "      <th>1</th>\n",
       "      <td>0</td>\n",
       "    </tr>\n",
       "    <tr>\n",
       "      <th>2</th>\n",
       "      <td>0</td>\n",
       "    </tr>\n",
       "    <tr>\n",
       "      <th>3</th>\n",
       "      <td>0</td>\n",
       "    </tr>\n",
       "    <tr>\n",
       "      <th>4</th>\n",
       "      <td>0</td>\n",
       "    </tr>\n",
       "    <tr>\n",
       "      <th>...</th>\n",
       "      <td>...</td>\n",
       "    </tr>\n",
       "    <tr>\n",
       "      <th>145</th>\n",
       "      <td>2</td>\n",
       "    </tr>\n",
       "    <tr>\n",
       "      <th>146</th>\n",
       "      <td>2</td>\n",
       "    </tr>\n",
       "    <tr>\n",
       "      <th>147</th>\n",
       "      <td>2</td>\n",
       "    </tr>\n",
       "    <tr>\n",
       "      <th>148</th>\n",
       "      <td>2</td>\n",
       "    </tr>\n",
       "    <tr>\n",
       "      <th>149</th>\n",
       "      <td>2</td>\n",
       "    </tr>\n",
       "  </tbody>\n",
       "</table>\n",
       "<p>150 rows × 1 columns</p>\n",
       "</div>"
      ],
      "text/plain": [
       "     Class\n",
       "0        0\n",
       "1        0\n",
       "2        0\n",
       "3        0\n",
       "4        0\n",
       "..     ...\n",
       "145      2\n",
       "146      2\n",
       "147      2\n",
       "148      2\n",
       "149      2\n",
       "\n",
       "[150 rows x 1 columns]"
      ]
     },
     "execution_count": 8,
     "metadata": {},
     "output_type": "execute_result"
    }
   ],
   "source": [
    "y"
   ]
  },
  {
   "cell_type": "code",
   "execution_count": 9,
   "metadata": {},
   "outputs": [],
   "source": [
    "from sklearn.model_selection import train_test_split  \n",
    "X_train, X_test, y_train, y_test = train_test_split(X, y, test_size = 0.20)  "
   ]
  },
  {
   "cell_type": "code",
   "execution_count": 10,
   "metadata": {},
   "outputs": [],
   "source": [
    "from sklearn.preprocessing import StandardScaler  \n",
    "scaler = StandardScaler()  \n",
    "scaler.fit(X_train)\n",
    "\n",
    "X_train = scaler.transform(X_train)  \n",
    "X_test = scaler.transform(X_test)  "
   ]
  },
  {
   "cell_type": "code",
   "execution_count": 11,
   "metadata": {
    "scrolled": true
   },
   "outputs": [
    {
     "data": {
      "text/plain": [
       "array([[-0.26545652, -0.62651763,  0.6687232 ,  1.02492266],\n",
       "       [-0.84674818,  1.64484537, -1.20260098, -1.10424457],\n",
       "       [-1.07926484, -0.17224503, -1.25763992, -1.2294897 ],\n",
       "       [ 0.1995768 , -0.85365393,  0.77880109,  0.52394213],\n",
       "       [-0.49797319,  1.87198167, -1.31267887, -0.97899944],\n",
       "       [ 1.01338512,  0.50916387,  1.10903477,  1.65114831],\n",
       "       [ 0.08331847, -0.17224503,  0.77880109,  0.77443239],\n",
       "       [-0.73048985,  0.96343647, -1.20260098, -1.2294897 ],\n",
       "       [ 1.47841844, -0.17224503,  1.21911266,  1.15016779],\n",
       "       [-1.54429817, -1.76219912, -1.31267887, -1.10424457],\n",
       "       [ 0.31583513, -0.39938133,  0.55864531,  0.27345187],\n",
       "       [ 0.5483518 ,  0.50916387,  1.27415161,  1.65114831],\n",
       "       [-1.6605565 , -0.39938133, -1.25763992, -1.2294897 ],\n",
       "       [ 1.01338512,  0.50916387,  1.10903477,  1.15016779],\n",
       "       [-0.96300651,  0.96343647, -1.14756203, -0.72850918],\n",
       "       [ 0.43209346,  0.73630017,  0.94391793,  1.40065805],\n",
       "       [ 1.01338512, -1.30792652,  1.16407372,  0.77443239],\n",
       "       [ 2.17596843, -1.08079022,  1.76950213,  1.40065805],\n",
       "       [-0.96300651,  0.73630017, -1.14756203, -0.97899944],\n",
       "       [-0.96300651,  1.19057277, -1.25763992, -1.2294897 ],\n",
       "       [ 1.36216011,  0.28202757,  0.55864531,  0.27345187],\n",
       "       [-0.96300651, -0.17224503, -1.14756203, -1.2294897 ],\n",
       "       [ 1.24590178,  0.28202757,  1.10903477,  1.40065805],\n",
       "       [-1.77681483, -0.17224503, -1.42275676, -1.35473483],\n",
       "       [-1.42803983,  1.19057277, -1.47779571, -1.2294897 ],\n",
       "       [-1.07926484,  0.05489127, -1.20260098, -1.35473483],\n",
       "       [-1.42803983,  0.05489127, -1.20260098, -1.2294897 ],\n",
       "       [ 0.31583513, -0.17224503,  0.50360636,  0.27345187],\n",
       "       [ 0.66461013, -0.85365393,  0.88887898,  0.89967752],\n",
       "       [-0.26545652, -0.39938133, -0.0467831 ,  0.14820674],\n",
       "       [-0.49797319, -0.17224503,  0.44856741,  0.398697  ],\n",
       "       [-0.03293986, -0.85365393,  0.77880109,  0.89967752],\n",
       "       [-0.38171485, -1.30792652,  0.17337268,  0.14820674],\n",
       "       [-0.03293986, -1.08079022,  0.17337268,  0.02296161],\n",
       "       [-0.26545652, -1.30792652,  0.11833373, -0.10228352],\n",
       "       [-1.6605565 ,  0.28202757, -1.31267887, -1.2294897 ],\n",
       "       [-0.73048985,  2.32625427, -1.20260098, -1.35473483],\n",
       "       [-0.84674818,  1.64484537, -0.98244519, -0.97899944],\n",
       "       [ 0.89712679, -0.17224503,  0.39352847,  0.27345187],\n",
       "       [-1.07926484, -1.53506282, -0.21189994, -0.22752865],\n",
       "       [-1.42803983,  0.28202757, -1.25763992, -1.2294897 ],\n",
       "       [ 0.66461013, -0.62651763,  1.05399582,  1.15016779],\n",
       "       [ 0.08331847,  0.28202757,  0.61368425,  0.77443239],\n",
       "       [-0.38171485, -1.53506282,  0.00825584, -0.22752865],\n",
       "       [-0.96300651, -1.76219912, -0.21189994, -0.22752865],\n",
       "       [-0.49797319,  0.73630017, -1.20260098, -0.97899944],\n",
       "       [-0.14919819,  3.00766316, -1.20260098, -0.97899944],\n",
       "       [-0.84674818,  0.96343647, -1.25763992, -1.10424457],\n",
       "       [-0.03293986, -0.62651763,  0.77880109,  1.52590318],\n",
       "       [-1.07926484,  0.05489127, -1.20260098, -1.35473483],\n",
       "       [ 0.1995768 , -0.39938133,  0.44856741,  0.398697  ],\n",
       "       [-0.38171485, -1.53506282,  0.06329479, -0.10228352],\n",
       "       [-0.03293986, -0.85365393,  0.77880109,  0.89967752],\n",
       "       [-1.19552317, -0.17224503, -1.25763992, -1.10424457],\n",
       "       [ 2.0597101 , -0.17224503,  1.60438529,  1.15016779],\n",
       "       [ 1.24590178,  0.05489127,  0.77880109,  1.40065805],\n",
       "       [ 1.59467678, -0.17224503,  1.16407372,  0.52394213],\n",
       "       [-0.14919819, -0.62651763,  0.44856741,  0.14820674],\n",
       "       [-1.3117815 ,  0.28202757, -1.31267887, -1.2294897 ],\n",
       "       [-1.3117815 ,  0.28202757, -1.14756203, -1.2294897 ],\n",
       "       [ 0.66461013,  0.28202757,  0.88887898,  1.40065805],\n",
       "       [ 0.1995768 ,  0.73630017,  0.44856741,  0.52394213],\n",
       "       [ 0.66461013, -0.39938133,  0.33848952,  0.14820674],\n",
       "       [ 1.12964345, -0.17224503,  0.99895688,  1.15016779],\n",
       "       [ 2.40848509,  1.64484537,  1.49430739,  1.02492266],\n",
       "       [ 0.66461013, -0.62651763,  1.05399582,  1.27541292],\n",
       "       [-0.84674818,  1.64484537, -1.14756203, -1.2294897 ],\n",
       "       [-1.19552317,  0.05489127, -1.14756203, -1.2294897 ],\n",
       "       [ 0.5483518 , -0.39938133,  1.05399582,  0.77443239],\n",
       "       [-0.26545652, -0.85365393,  0.28345057,  0.14820674],\n",
       "       [-0.96300651,  0.96343647, -1.31267887, -1.10424457],\n",
       "       [ 2.17596843, -0.17224503,  1.32919056,  1.40065805],\n",
       "       [-1.19552317,  0.73630017, -1.14756203, -1.2294897 ],\n",
       "       [-0.38171485,  2.55339057, -1.25763992, -1.2294897 ],\n",
       "       [ 0.1995768 , -1.98933542,  0.72376214,  0.398697  ],\n",
       "       [ 0.78086846, -0.17224503,  0.83384004,  1.02492266],\n",
       "       [ 0.5483518 , -1.30792652,  0.72376214,  0.89967752],\n",
       "       [-0.03293986, -0.85365393,  0.11833373,  0.02296161],\n",
       "       [-0.49797319,  1.87198167, -1.09252309, -0.97899944],\n",
       "       [-1.07926484,  0.05489127, -1.20260098, -1.35473483],\n",
       "       [-0.03293986,  2.09911797, -1.36771782, -1.2294897 ],\n",
       "       [-0.38171485,  0.96343647, -1.31267887, -1.2294897 ],\n",
       "       [ 1.24590178,  0.05489127,  0.94391793,  1.15016779],\n",
       "       [-0.03293986, -0.85365393,  0.22841163, -0.22752865],\n",
       "       [-1.19552317,  0.73630017, -0.98244519, -1.2294897 ],\n",
       "       [ 1.01338512, -0.17224503,  0.72376214,  0.64918726],\n",
       "       [ 1.12964345, -0.62651763,  0.61368425,  0.27345187],\n",
       "       [-0.26545652, -0.17224503,  0.22841163,  0.14820674],\n",
       "       [-0.84674818,  0.73630017, -1.20260098, -1.2294897 ],\n",
       "       [ 0.78086846, -0.17224503,  1.16407372,  1.27541292],\n",
       "       [-1.42803983,  0.73630017, -1.25763992, -1.10424457],\n",
       "       [ 2.17596843, -0.62651763,  1.65942423,  1.02492266],\n",
       "       [-0.14919819, -1.30792652,  0.72376214,  1.02492266],\n",
       "       [ 0.5483518 , -0.85365393,  0.6687232 ,  0.77443239],\n",
       "       [ 0.78086846, -0.62651763,  0.50360636,  0.398697  ],\n",
       "       [-0.49797319,  0.73630017, -1.09252309, -1.2294897 ],\n",
       "       [-0.84674818,  0.96343647, -1.25763992, -1.2294897 ],\n",
       "       [ 0.5483518 , -1.76219912,  0.39352847,  0.14820674],\n",
       "       [ 0.5483518 ,  0.73630017,  1.05399582,  1.52590318],\n",
       "       [-0.14919819, -1.08079022, -0.10182205, -0.22752865],\n",
       "       [ 0.43209346, -0.62651763,  0.61368425,  0.77443239],\n",
       "       [ 0.1995768 , -1.98933542,  0.17337268, -0.22752865],\n",
       "       [ 1.01338512, -0.17224503,  0.83384004,  1.40065805],\n",
       "       [-0.96300651,  0.73630017, -1.20260098, -1.2294897 ],\n",
       "       [ 0.5483518 ,  0.50916387,  0.55864531,  0.52394213],\n",
       "       [ 1.82719344, -0.62651763,  1.32919056,  0.89967752],\n",
       "       [ 0.89712679, -0.39938133,  0.50360636,  0.14820674],\n",
       "       [-0.96300651,  0.28202757, -1.36771782, -1.2294897 ],\n",
       "       [ 1.01338512,  0.05489127,  0.55864531,  0.398697  ],\n",
       "       [-1.07926484, -1.30792652,  0.44856741,  0.64918726],\n",
       "       [ 0.43209346, -0.39938133,  0.33848952,  0.14820674],\n",
       "       [ 1.59467678,  1.19057277,  1.32919056,  1.65114831],\n",
       "       [-1.19552317, -0.17224503, -1.25763992, -1.35473483],\n",
       "       [ 0.78086846,  0.28202757,  0.77880109,  1.02492266],\n",
       "       [ 0.43209346, -1.98933542,  0.44856741,  0.398697  ],\n",
       "       [ 2.17596843,  1.64484537,  1.65942423,  1.27541292],\n",
       "       [-1.6605565 , -0.17224503, -1.31267887, -1.2294897 ],\n",
       "       [ 0.66461013,  0.28202757,  0.44856741,  0.398697  ],\n",
       "       [-0.14919819,  1.64484537, -1.09252309, -1.10424457],\n",
       "       [ 0.66461013,  0.05489127,  0.99895688,  0.77443239]])"
      ]
     },
     "execution_count": 11,
     "metadata": {},
     "output_type": "execute_result"
    }
   ],
   "source": [
    "X_train"
   ]
  },
  {
   "cell_type": "code",
   "execution_count": 12,
   "metadata": {},
   "outputs": [
    {
     "data": {
      "text/plain": [
       "MLPClassifier(hidden_layer_sizes=(10, 10, 10), max_iter=1000)"
      ]
     },
     "execution_count": 12,
     "metadata": {},
     "output_type": "execute_result"
    }
   ],
   "source": [
    "# Multi-Layer Perceptron(MLP)\n",
    "from sklearn.neural_network import MLPClassifier  \n",
    "mlp = MLPClassifier(hidden_layer_sizes=(10, 10, 10), max_iter=1000)  \n",
    "mlp.fit(X_train, y_train.values.ravel())  "
   ]
  },
  {
   "cell_type": "code",
   "execution_count": 13,
   "metadata": {},
   "outputs": [
    {
     "data": {
      "text/plain": [
       "array([2, 0, 0, 1, 0, 2, 2, 0, 2, 0, 1, 2, 0, 2, 0, 2, 2, 2, 0, 0, 1, 0,\n",
       "       2, 0, 0, 0, 0, 1, 2, 1, 1, 2, 1, 1, 1, 0, 0, 0, 1, 1, 0, 2, 1, 1,\n",
       "       1, 0, 0, 0, 2, 0, 1, 1, 2, 0, 2, 2, 2, 1, 0, 0, 2, 1, 1, 2, 2, 2,\n",
       "       0, 0, 2, 1, 0, 2, 0, 0, 2, 2, 2, 1, 0, 0, 0, 0, 2, 1, 0, 1, 1, 1,\n",
       "       0, 2, 0, 2, 2, 2, 1, 0, 0, 1, 2, 1, 2, 1, 2, 0, 1, 2, 1, 0, 1, 2,\n",
       "       1, 2, 0, 2, 1, 2, 0, 1, 0, 2])"
      ]
     },
     "execution_count": 13,
     "metadata": {},
     "output_type": "execute_result"
    }
   ],
   "source": [
    "y_train.values.ravel()"
   ]
  },
  {
   "cell_type": "code",
   "execution_count": 14,
   "metadata": {},
   "outputs": [
    {
     "data": {
      "text/plain": [
       "array([1, 2, 1, 2, 2, 1, 1, 1, 2, 1, 1, 1, 0, 2, 1, 2, 0, 1, 1, 0, 2, 1,\n",
       "       1, 0, 0, 2, 1, 1, 0, 1])"
      ]
     },
     "execution_count": 14,
     "metadata": {},
     "output_type": "execute_result"
    }
   ],
   "source": [
    "predictions = mlp.predict(X_test)  \n",
    "predictions"
   ]
  },
  {
   "cell_type": "code",
   "execution_count": 15,
   "metadata": {},
   "outputs": [
    {
     "name": "stdout",
     "output_type": "stream",
     "text": [
      "[[ 6  0  0]\n",
      " [ 0 15  0]\n",
      " [ 0  1  8]]\n",
      "              precision    recall  f1-score   support\n",
      "\n",
      "           0       1.00      1.00      1.00         6\n",
      "           1       0.94      1.00      0.97        15\n",
      "           2       1.00      0.89      0.94         9\n",
      "\n",
      "    accuracy                           0.97        30\n",
      "   macro avg       0.98      0.96      0.97        30\n",
      "weighted avg       0.97      0.97      0.97        30\n",
      "\n"
     ]
    }
   ],
   "source": [
    "from sklearn.metrics import classification_report, confusion_matrix  \n",
    "print(confusion_matrix(y_test,predictions))  \n",
    "print(classification_report(y_test,predictions))  "
   ]
  },
  {
   "cell_type": "code",
   "execution_count": null,
   "metadata": {},
   "outputs": [],
   "source": []
  }
 ],
 "metadata": {
  "anaconda-cloud": {},
  "kernelspec": {
   "display_name": "Python 3",
   "language": "python",
   "name": "python3"
  },
  "language_info": {
   "codemirror_mode": {
    "name": "ipython",
    "version": 3
   },
   "file_extension": ".py",
   "mimetype": "text/x-python",
   "name": "python",
   "nbconvert_exporter": "python",
   "pygments_lexer": "ipython3",
   "version": "3.7.10"
  }
 },
 "nbformat": 4,
 "nbformat_minor": 1
}
